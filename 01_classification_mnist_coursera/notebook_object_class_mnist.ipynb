{
 "cells": [
  {
   "cell_type": "code",
   "execution_count": 1,
   "id": "8248d2ec",
   "metadata": {},
   "outputs": [],
   "source": [
    "import tensorflow as tf"
   ]
  },
  {
   "cell_type": "code",
   "execution_count": 2,
   "id": "4bfcfe75",
   "metadata": {},
   "outputs": [],
   "source": [
    "from absl import logging"
   ]
  },
  {
   "cell_type": "markdown",
   "id": "65483258",
   "metadata": {},
   "source": [
    "# Experiment with ABSL logging"
   ]
  },
  {
   "cell_type": "code",
   "execution_count": 4,
   "id": "67912215",
   "metadata": {},
   "outputs": [
    {
     "name": "stderr",
     "output_type": "stream",
     "text": [
      "INFO:absl:Interesting Stuff\n",
      "INFO:absl:Interesting Stuff with Arguments: 42\n",
      "DEBUG:absl:This will be printed\n",
      "DEBUG:absl:this also will be printed\n",
      "WARNING:absl:Worrying Stuff\n",
      "ERROR:absl:Alarming Stuff\n"
     ]
    }
   ],
   "source": [
    "logging.info('Interesting Stuff')\n",
    "logging.info('Interesting Stuff with Arguments: %d', 42)\n",
    "\n",
    "logging.set_verbosity(logging.INFO)\n",
    "logging.log(logging.DEBUG, 'This will *not* be printed')\n",
    "logging.debug(\"also not printed\")\n",
    "\n",
    "logging.set_verbosity(logging.DEBUG)\n",
    "logging.log(logging.DEBUG, 'This will be printed')\n",
    "logging.debug(\"this also will be printed\")\n",
    "\n",
    "logging.warning('Worrying Stuff')\n",
    "logging.error('Alarming Stuff')\n",
    "# logging.fatal('yikes!')"
   ]
  },
  {
   "cell_type": "markdown",
   "id": "d6defcdf",
   "metadata": {},
   "source": [
    "# At the time this was last run we were using using latest TensorFlow\n",
    "## TensorFlow 2 (specifically 2.9.1)"
   ]
  },
  {
   "cell_type": "code",
   "execution_count": 8,
   "id": "eca4c9b8",
   "metadata": {},
   "outputs": [
    {
     "name": "stderr",
     "output_type": "stream",
     "text": [
      "INFO:absl:Using Tensorflow version 2.9.1\n"
     ]
    }
   ],
   "source": [
    "logging.set_verbosity(logging.INFO)\n",
    "logging.info(\"Using Tensorflow version {}\".format(tf.__version__))"
   ]
  },
  {
   "cell_type": "markdown",
   "id": "dc76ad70",
   "metadata": {},
   "source": [
    "# The Dataset (MNIST)"
   ]
  },
  {
   "cell_type": "code",
   "execution_count": 9,
   "id": "07ca0363",
   "metadata": {},
   "outputs": [],
   "source": [
    "from tensorflow.keras.datasets import mnist\n",
    "(x_train, y_train), (x_test, y_test) = mnist.load_data()"
   ]
  },
  {
   "cell_type": "markdown",
   "id": "34fbc64e",
   "metadata": {},
   "source": [
    "## Shape of imported arrays"
   ]
  },
  {
   "cell_type": "code",
   "execution_count": 10,
   "id": "e321f799",
   "metadata": {},
   "outputs": [
    {
     "name": "stdout",
     "output_type": "stream",
     "text": [
      "x_train (60000, 28, 28) y_train (60000,) x_test(10000, 28, 28) y_test(10000,)\n"
     ]
    }
   ],
   "source": [
    "print(\"x_train {} y_train {} x_test{} y_test{}\".format(\n",
    "x_train.shape, y_train.shape, x_test.shape, y_test.shape))"
   ]
  },
  {
   "cell_type": "code",
   "execution_count": 12,
   "id": "130700e1",
   "metadata": {},
   "outputs": [
    {
     "data": {
      "image/png": "[encoded data removed]",
      "text/plain": [
       "<Figure size 432x288 with 1 Axes>"
      ]
     },
     "metadata": {
      "needs_background": "light"
     },
     "output_type": "display_data"
    }
   ],
   "source": [
    "from matplotlib import pyplot as plt\n",
    "%matplotlib inline\n",
    "\n",
    "# plt.imshow(x_train[0], cmap='binary')\n",
    "plt.imshow(x_train[0], cmap='gray')\n",
    "plt.show()"
   ]
  },
  {
   "cell_type": "markdown",
   "id": "d874cf93",
   "metadata": {},
   "source": [
    "# Display label and set(label)"
   ]
  },
  {
   "cell_type": "code",
   "execution_count": 14,
   "id": "e901b5bf",
   "metadata": {},
   "outputs": [
    {
     "name": "stdout",
     "output_type": "stream",
     "text": [
      "5\n",
      "{0, 1, 2, 3, 4, 5, 6, 7, 8, 9}\n"
     ]
    }
   ],
   "source": [
    "print(y_train[0])\n",
    "print(set(y_train))"
   ]
  },
  {
   "cell_type": "markdown",
   "id": "3abf0eaf",
   "metadata": {},
   "source": [
    "# One-hot encode the output (class)"
   ]
  },
  {
   "cell_type": "code",
   "execution_count": 15,
   "id": "d9653223",
   "metadata": {},
   "outputs": [],
   "source": [
    "from tensorflow.keras.utils import to_categorical\n",
    "y_train_encoded = to_categorical(y_train)\n",
    "y_test_encoded = to_categorical(y_test)"
   ]
  },
  {
   "cell_type": "markdown",
   "id": "b170c255",
   "metadata": {},
   "source": [
    "# Validated shapes"
   ]
  },
  {
   "cell_type": "code",
   "execution_count": 17,
   "id": "33200b81",
   "metadata": {},
   "outputs": [
    {
     "name": "stdout",
     "output_type": "stream",
     "text": [
      "y_train_encoded.shape: (60000, 10)\n",
      "y_test_encoded.shape: (10000, 10)\n"
     ]
    }
   ],
   "source": [
    "print('y_train_encoded.shape: {}'.format(y_train_encoded.shape))\n",
    "print('y_test_encoded.shape: {}'.format(y_test_encoded.shape))"
   ]
  },
  {
   "cell_type": "markdown",
   "id": "3a7c46f4",
   "metadata": {},
   "source": [
    "# Display encoded labels"
   ]
  },
  {
   "cell_type": "code",
   "execution_count": 18,
   "id": "17da3040",
   "metadata": {},
   "outputs": [
    {
     "name": "stdout",
     "output_type": "stream",
     "text": [
      "[0. 0. 0. 0. 0. 1. 0. 0. 0. 0.]\n"
     ]
    }
   ],
   "source": [
    "print(y_train_encoded[0])"
   ]
  },
  {
   "cell_type": "markdown",
   "id": "5bfed312",
   "metadata": {},
   "source": [
    "# Neural Network..."
   ]
  },
  {
   "cell_type": "markdown",
   "id": "14d5b02a",
   "metadata": {},
   "source": [
    "## Unroll the input data (this is not a convolutional example)"
   ]
  },
  {
   "cell_type": "code",
   "execution_count": 21,
   "id": "6c7d33f0",
   "metadata": {},
   "outputs": [
    {
     "name": "stdout",
     "output_type": "stream",
     "text": [
      "x_train_reshaped.shape (60000, 784)\n",
      "x_test_reshaped.shape (10000, 784)\n"
     ]
    }
   ],
   "source": [
    "import numpy as np\n",
    "x_train_reshaped = np.reshape(x_train, (60000, 28*28))\n",
    "x_test_reshaped = np.reshape(x_test, (10000, 28*28))\n",
    "print(\"x_train_reshaped.shape {}\".format(x_train_reshaped.shape))\n",
    "print(\"x_test_reshaped.shape {}\".format(x_test_reshaped.shape))"
   ]
  },
  {
   "cell_type": "markdown",
   "id": "8505c01e",
   "metadata": {},
   "source": [
    "# Display pixel values"
   ]
  },
  {
   "cell_type": "code",
   "execution_count": 30,
   "id": "80b573ab",
   "metadata": {},
   "outputs": [
    {
     "name": "stdout",
     "output_type": "stream",
     "text": [
      "{0, 1, 2, 3, 9, 11, 14, 16, 18, 23, 24, 25, 26, 27, 30, 35, 36, 39, 43, 45, 46, 49, 55, 56, 64, 66, 70, 78, 80, 81, 82, 90, 93, 94, 107, 108, 114, 119, 126, 127, 130, 132, 133, 135, 136, 139, 148, 150, 154, 156, 160, 166, 170, 171, 172, 175, 182, 183, 186, 187, 190, 195, 198, 201, 205, 207, 212, 213, 219, 221, 225, 226, 229, 238, 240, 241, 242, 244, 247, 249, 250, 251, 252, 253, 255}\n",
      "\n",
      "[  0   0   0   0   0   0   0   0   0   0   0   0   0   0   0   0   0   0\n",
      "   0   0   0   0   0   0   0   0   0   0   0   0   0   0   0   0   0   0\n",
      "   0   0   0   0   0   0   0   0   0   0   0   0   0   0   0   0   0   0\n",
      "   0   0   0   0   0   0   0   0   0   0   0   0   0   0   0   0   0   0\n",
      "   0   0   0   0   0   0   0   0   0   0   0   0   0   0   0   0   0   0\n",
      "   0   0   0   0   0   0   0   0   0   0   0   0   0   0   0   0   0   0\n",
      "   0   0   0   0   0   0   0   0   0   0   0   0   0   0   0   0   0   0\n",
      "   0   0   0   0   0   0   0   0   0   0   0   0   0   0   0   0   0   0\n",
      "   0   0   0   0   0   0   0   0   3  18  18  18 126 136 175  26 166 255\n",
      " 247 127   0   0   0   0   0   0   0   0   0   0   0   0  30  36  94 154\n",
      " 170 253 253 253 253 253 225 172 253 242 195  64   0   0   0   0   0   0\n",
      "   0   0   0   0   0  49 238 253 253 253 253 253 253 253 253 251  93  82\n",
      "  82  56  39   0   0   0   0   0   0   0   0   0   0   0   0  18 219 253\n",
      " 253 253 253 253 198 182 247 241   0   0   0   0   0   0   0   0   0   0\n",
      "   0   0   0   0   0   0   0   0  80 156 107 253 253 205  11   0  43 154\n",
      "   0   0   0   0   0   0   0   0   0   0   0   0   0   0   0   0   0   0\n",
      "   0  14   1 154 253  90   0   0   0   0   0   0   0   0   0   0   0   0\n",
      "   0   0   0   0   0   0   0   0   0   0   0   0   0 139 253 190   2   0\n",
      "   0   0   0   0   0   0   0   0   0   0   0   0   0   0   0   0   0   0\n",
      "   0   0   0   0   0  11 190 253  70   0   0   0   0   0   0   0   0   0\n",
      "   0   0   0   0   0   0   0   0   0   0   0   0   0   0   0   0  35 241\n",
      " 225 160 108   1   0   0   0   0   0   0   0   0   0   0   0   0   0   0\n",
      "   0   0   0   0   0   0   0   0   0  81 240 253 253 119  25   0   0   0\n",
      "   0   0   0   0   0   0   0   0   0   0   0   0   0   0   0   0   0   0\n",
      "   0   0  45 186 253 253 150  27   0   0   0   0   0   0   0   0   0   0\n",
      "   0   0   0   0   0   0   0   0   0   0   0   0   0  16  93 252 253 187\n",
      "   0   0   0   0   0   0   0   0   0   0   0   0   0   0   0   0   0   0\n",
      "   0   0   0   0   0   0   0 249 253 249  64   0   0   0   0   0   0   0\n",
      "   0   0   0   0   0   0   0   0   0   0   0   0   0   0  46 130 183 253\n",
      " 253 207   2   0   0   0   0   0   0   0   0   0   0   0   0   0   0   0\n",
      "   0   0   0   0  39 148 229 253 253 253 250 182   0   0   0   0   0   0\n",
      "   0   0   0   0   0   0   0   0   0   0   0   0  24 114 221 253 253 253\n",
      " 253 201  78   0   0   0   0   0   0   0   0   0   0   0   0   0   0   0\n",
      "   0   0  23  66 213 253 253 253 253 198  81   2   0   0   0   0   0   0\n",
      "   0   0   0   0   0   0   0   0   0   0  18 171 219 253 253 253 253 195\n",
      "  80   9   0   0   0   0   0   0   0   0   0   0   0   0   0   0   0   0\n",
      "  55 172 226 253 253 253 253 244 133  11   0   0   0   0   0   0   0   0\n",
      "   0   0   0   0   0   0   0   0   0   0 136 253 253 253 212 135 132  16\n",
      "   0   0   0   0   0   0   0   0   0   0   0   0   0   0   0   0   0   0\n",
      "   0   0   0   0   0   0   0   0   0   0   0   0   0   0   0   0   0   0\n",
      "   0   0   0   0   0   0   0   0   0   0   0   0   0   0   0   0   0   0\n",
      "   0   0   0   0   0   0   0   0   0   0   0   0   0   0   0   0   0   0\n",
      "   0   0   0   0   0   0   0   0   0   0   0   0   0   0   0   0   0   0\n",
      "   0   0   0   0   0   0   0   0   0   0]\n"
     ]
    }
   ],
   "source": [
    "print(set(x_train_reshaped[0]))\n",
    "print()\n",
    "print(x_train_reshaped[0])"
   ]
  },
  {
   "cell_type": "markdown",
   "id": "136fd339",
   "metadata": {},
   "source": [
    "# Data Normalization"
   ]
  },
  {
   "cell_type": "code",
   "execution_count": 24,
   "id": "137ffc3d",
   "metadata": {},
   "outputs": [],
   "source": [
    "mean = np.mean(x_train_reshaped)\n",
    "std = np.std(x_train_reshaped)\n",
    "epsilon = 1e-10\n",
    "x_train_norm = (x_train_reshaped - mean) / (std + epsilon)\n",
    "x_test_norm = (x_test_reshaped - mean) / (std + epsilon)"
   ]
  },
  {
   "cell_type": "markdown",
   "id": "95be14d6",
   "metadata": {},
   "source": [
    "# Display Normalized Pixel Values"
   ]
  },
  {
   "cell_type": "code",
   "execution_count": 37,
   "id": "0c2c2ae1",
   "metadata": {},
   "outputs": [
    {
     "data": {
      "image/png": "[encoded data removed]",
      "text/plain": [
       "<Figure size 432x288 with 1 Axes>"
      ]
     },
     "metadata": {
      "needs_background": "light"
     },
     "output_type": "display_data"
    }
   ],
   "source": [
    "plt.hist(x_train_norm[0], bins=20)\n",
    "plt.show()"
   ]
  },
  {
   "cell_type": "markdown",
   "id": "6da0e63b",
   "metadata": {},
   "source": [
    "## Creating a Model"
   ]
  },
  {
   "cell_type": "code",
   "execution_count": 47,
   "id": "ac33c8df",
   "metadata": {},
   "outputs": [],
   "source": [
    "from tensorflow.keras.models import Sequential\n",
    "from tensorflow.keras.layers import Dense\n",
    "\n",
    "model = Sequential([\n",
    "    Dense(128, activation='relu', input_shape=(28*28,)),\n",
    "    Dense(128, activation='relu'),\n",
    "    Dense(10, activation='softmax')\n",
    "])\n"
   ]
  },
  {
   "cell_type": "markdown",
   "id": "3e9588f2",
   "metadata": {},
   "source": [
    "# Compiling the Model"
   ]
  },
  {
   "cell_type": "code",
   "execution_count": 49,
   "id": "cc53e1bd",
   "metadata": {},
   "outputs": [
    {
     "name": "stdout",
     "output_type": "stream",
     "text": [
      "Model: \"sequential\"\n",
      "_________________________________________________________________\n",
      " Layer (type)                Output Shape              Param #   \n",
      "=================================================================\n",
      " dense (Dense)               (None, 128)               100480    \n",
      "                                                                 \n",
      " dense_1 (Dense)             (None, 128)               16512     \n",
      "                                                                 \n",
      " dense_2 (Dense)             (None, 10)                1290      \n",
      "                                                                 \n",
      "=================================================================\n",
      "Total params: 118,282\n",
      "Trainable params: 118,282\n",
      "Non-trainable params: 0\n",
      "_________________________________________________________________\n"
     ]
    }
   ],
   "source": [
    "model.compile(\n",
    "optimizer='sgd',\n",
    "loss='categorical_crossentropy',\n",
    "metrics=['accuracy']\n",
    ")\n",
    "model.summary()"
   ]
  },
  {
   "cell_type": "markdown",
   "id": "ea7ff94c",
   "metadata": {},
   "source": [
    "# Training the Model"
   ]
  },
  {
   "cell_type": "code",
   "execution_count": 65,
   "id": "793aa609",
   "metadata": {},
   "outputs": [
    {
     "name": "stdout",
     "output_type": "stream",
     "text": [
      "1875/1875 [==============================] - 5s 2ms/step - loss: 0.1099 - accuracy: 0.9679\n"
     ]
    },
    {
     "data": {
      "text/plain": [
       "<keras.callbacks.History at 0x188a4b55b40>"
      ]
     },
     "execution_count": 65,
     "metadata": {},
     "output_type": "execute_result"
    }
   ],
   "source": [
    "model.fit(x_train_norm, y_train_encoded, epochs=1)"
   ]
  },
  {
   "cell_type": "markdown",
   "id": "f4dc6a74",
   "metadata": {},
   "source": [
    "# Evaluate the Model"
   ]
  },
  {
   "cell_type": "code",
   "execution_count": 66,
   "id": "94f23b69",
   "metadata": {},
   "outputs": [
    {
     "name": "stdout",
     "output_type": "stream",
     "text": [
      "313/313 [==============================] - 1s 2ms/step - loss: 0.1162 - accuracy: 0.9640\n",
      "accuracy percent 96.39999866485596\n"
     ]
    }
   ],
   "source": [
    "loss,accuracy = model.evaluate(x_test_norm, y_test_encoded)\n",
    "print(\"accuracy percent {}\".format(accuracy*100))"
   ]
  },
  {
   "cell_type": "markdown",
   "id": "47b0a5da",
   "metadata": {},
   "source": [
    "# Predictions"
   ]
  },
  {
   "cell_type": "code",
   "execution_count": 67,
   "id": "be4c8b5c",
   "metadata": {},
   "outputs": [
    {
     "name": "stdout",
     "output_type": "stream",
     "text": [
      "313/313 [==============================] - 1s 2ms/step\n",
      "Shape of predictions: (10000, 10)\n"
     ]
    }
   ],
   "source": [
    "preds = model.predict(x_test_norm)\n",
    "print(\"Shape of predictions: {}\".format(preds.shape))"
   ]
  },
  {
   "cell_type": "markdown",
   "id": "81864528",
   "metadata": {},
   "source": [
    "# Plotting the results"
   ]
  },
  {
   "cell_type": "code",
   "execution_count": 68,
   "id": "c25fdcfd",
   "metadata": {},
   "outputs": [
    {
     "data": {
      "image/png": "[encoded data removed]",
      "text/plain": [
       "<Figure size 864x864 with 25 Axes>"
      ]
     },
     "metadata": {},
     "output_type": "display_data"
    }
   ],
   "source": [
    "plt.figure(figsize=(12,12))\n",
    "start_index = 0\n",
    "\n",
    "for i in range(25):\n",
    "    plt.subplot(5,5,i+1)\n",
    "    plt.grid(False)\n",
    "    plt.xticks([])\n",
    "    plt.yticks([])\n",
    "    \n",
    "    pred = np.argmax(preds[start_index+i])\n",
    "    gt = y_test[start_index+i]\n",
    "    \n",
    "    col = 'g'\n",
    "    if pred != gt:\n",
    "        col = 'r'\n",
    "        \n",
    "    plt.xlabel('i={}, pred={}, gt={}'.format(start_index+i, pred, gt), color=col)\n",
    "    plt.imshow(x_test[start_index+i], cmap='gray')\n",
    "plt.show()\n",
    "    \n",
    "    "
   ]
  },
  {
   "cell_type": "code",
   "execution_count": null,
   "id": "e258f7b6",
   "metadata": {},
   "outputs": [],
   "source": [
    "plt.plot(predc)"
   ]
  }
 ],
 "metadata": {
  "kernelspec": {
   "display_name": "Python 3 (ipykernel)",
   "language": "python",
   "name": "python3"
  },
  "language_info": {
   "codemirror_mode": {
    "name": "ipython",
    "version": 3
   },
   "file_extension": ".py",
   "mimetype": "text/x-python",
   "name": "python",
   "nbconvert_exporter": "python",
   "pygments_lexer": "ipython3",
   "version": "3.10.4"
  }
 },
 "nbformat": 4,
 "nbformat_minor": 5
}
